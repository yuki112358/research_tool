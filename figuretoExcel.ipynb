{
 "cells": [
  {
   "cell_type": "markdown",
   "metadata": {},
   "source": [
    "## 参考サイト\n",
    "https://qiita.com/Cartelet/items/fd1d6eeb395cf572d6a2"
   ]
  },
  {
   "cell_type": "code",
   "execution_count": 1,
   "metadata": {},
   "outputs": [],
   "source": [
    "import numpy as np\n",
    "import matplotlib.pyplot as plt\n",
    "from ipywidgets import interact\n",
    "import requests\n",
    "from PIL import Image\n",
    "import io"
   ]
  },
  {
   "cell_type": "code",
   "execution_count": 2,
   "metadata": {},
   "outputs": [
    {
     "data": {
      "text/plain": [
       "<matplotlib.image.AxesImage at 0x7ff47e796310>"
      ]
     },
     "execution_count": 2,
     "metadata": {},
     "output_type": "execute_result"
    },
    {
     "data": {
      "image/png": "[encoded data removed]",
      "text/plain": [
       "<Figure size 432x288 with 1 Axes>"
      ]
     },
     "metadata": {
      "needs_background": "light"
     },
     "output_type": "display_data"
    }
   ],
   "source": [
    "path = \"/Users/yuki2001/Library/CloudStorage/Box-Box/02. 学生アルバイト共有/QBlade/comparison_DTU_Tunnel_experiment/thesis_figure/Cty_azm.png\"\n",
    "im = plt.imread(path) #画像をnumpy配列に変換\n",
    "if im.shape[2] == 4:im = im[:,:,:-1] \n",
    "if im.max() > 1:im /= 255 #0-1に正規化\n",
    "h, w, _ = im.shape\n",
    "plt.imshow(im[::-1]) #上下反転"
   ]
  },
  {
   "cell_type": "code",
   "execution_count": 3,
   "metadata": {},
   "outputs": [
    {
     "data": {
      "application/vnd.jupyter.widget-view+json": {
       "model_id": "410e449925394500acc1c08377d24260",
       "version_major": 2,
       "version_minor": 0
      },
      "text/plain": [
       "interactive(children=(IntSlider(value=0, description='x_min', max=1482), IntSlider(value=1482, description='x_…"
      ]
     },
     "metadata": {},
     "output_type": "display_data"
    }
   ],
   "source": [
    "#後のスケール調節用にグラフの範囲のみトリミング\n",
    "#できるだけ正の領域のみか負の領域のみにする\n",
    "@interact(x_min=(0, w), x_max=(0, w), y_min=(0,h), y_max=(0,h))\n",
    "def Plot(x_min=0, x_max=w, y_min=0, y_max=h):\n",
    "    global imag\n",
    "    plt.figure(figsize=(7, 7))\n",
    "    imag = im[min(y_min,y_max-1):max(y_min+1, y_max), min(x_min,x_max-1):max(x_min+1, x_max)]\n",
    "    plt.imshow(imag[::-1])"
   ]
  },
  {
   "cell_type": "code",
   "execution_count": 4,
   "metadata": {},
   "outputs": [],
   "source": [
    "x_all = imag.shape[1]\n",
    "y_all = imag.shape[0]"
   ]
  },
  {
   "cell_type": "code",
   "execution_count": 5,
   "metadata": {},
   "outputs": [
    {
     "data": {
      "application/vnd.jupyter.widget-view+json": {
       "model_id": "d46178bc10c54f3aa22111d1634cf91e",
       "version_major": 2,
       "version_minor": 0
      },
      "text/plain": [
       "interactive(children=(IntSlider(value=0, description='x_min', max=1482), IntSlider(value=1482, description='x_…"
      ]
     },
     "metadata": {},
     "output_type": "display_data"
    }
   ],
   "source": [
    "#基準となる長さになるように切り取る\n",
    "#元のグラフのちょうどメモリのところで切り取ればその範囲が元のメモリでどのくらいの大きさになるのかがわかる\n",
    "#基準となる長さを利用してスケールを後ほど調整する\n",
    "@interact(x_min=(0, w), x_max=(0, w), y_min=(0,h), y_max=(0,h))\n",
    "def Plot(x_min=0, x_max=w, y_min=0, y_max=h):\n",
    "    global imag_ref\n",
    "    plt.figure(figsize=(7, 7))\n",
    "    imag_ref = im[min(y_min,y_max-1):max(y_min+1, y_max), min(x_min,x_max-1):max(x_min+1, x_max)]\n",
    "    plt.imshow(imag_ref[::-1])"
   ]
  },
  {
   "cell_type": "code",
   "execution_count": 6,
   "metadata": {},
   "outputs": [],
   "source": [
    "x_ref = imag_ref.shape[1] #0-350degreeに対応\n",
    "y_ref = imag_ref.shape[0] #0-1(Ct)に対応"
   ]
  },
  {
   "cell_type": "code",
   "execution_count": 7,
   "metadata": {},
   "outputs": [
    {
     "data": {
      "application/vnd.jupyter.widget-view+json": {
       "model_id": "2cd73ac679f4451f8fbf4a411e1b59b9",
       "version_major": 2,
       "version_minor": 0
      },
      "text/plain": [
       "interactive(children=(IntSlider(value=0, description='x_min', max=1482), IntSlider(value=1482, description='x_…"
      ]
     },
     "metadata": {},
     "output_type": "display_data"
    }
   ],
   "source": [
    "#正の領域と負の領域が存在する場合は、負の領域のみ切り取ってその部分の長さを知る必要がある\n",
    "#今回はyが負の領域だけ切り取る\n",
    "@interact(x_min=(0, w), x_max=(0, w), y_min=(0,h), y_max=(0,h))\n",
    "def Plot(x_min=0, x_max=w, y_min=0, y_max=h):\n",
    "    global imag_neg\n",
    "    plt.figure(figsize=(7, 7))\n",
    "    imag_neg = im[min(y_min,y_max-1):max(y_min+1, y_max), min(x_min,x_max-1):max(x_min+1, x_max)]\n",
    "    plt.imshow(imag_neg[::-1])"
   ]
  },
  {
   "cell_type": "code",
   "execution_count": 8,
   "metadata": {},
   "outputs": [],
   "source": [
    "#x_neg = imag_neg.shape[1] \n",
    "y_neg = imag_neg.shape[0] #負の領域の長さ"
   ]
  },
  {
   "cell_type": "code",
   "execution_count": 20,
   "metadata": {},
   "outputs": [
    {
     "data": {
      "application/vnd.jupyter.widget-view+json": {
       "model_id": "074c1f47ff324d60b93b7a7b533a0e76",
       "version_major": 2,
       "version_minor": 0
      },
      "text/plain": [
       "interactive(children=(IntSlider(value=547, description='x', max=1095), IntSlider(value=181, description='y', m…"
      ]
     },
     "metadata": {},
     "output_type": "display_data"
    }
   ],
   "source": [
    "#色域選択で抽出したいグラフを選択, Threshold(閾値)を調節して無駄な部分が入らないようにする\n",
    "@interact(x=(0, imag.shape[1]), y=(0,imag.shape[0]), thresh=(1,10))\n",
    "def Plot(x, y, thresh):\n",
    "    global p\n",
    "    p = ((imag - imag[y, x]) ** 2).sum(axis=2) < (1 / (1 <<thresh))\n",
    "    print(p.sum())\n",
    "    plt.imshow(p[::-1])\n",
    "    plt.plot([x, x], [0, imag.shape[0]], color=\"r\")\n",
    "    plt.plot([0, imag.shape[1]], [imag.shape[0]-y, imag.shape[0]-y], color=\"r\")"
   ]
  },
  {
   "cell_type": "code",
   "execution_count": 37,
   "metadata": {},
   "outputs": [],
   "source": [
    "#縦軸方向に平均を取る\n",
    "p = np.pad(p, 1, \"constant\")\n",
    "sx = np.arange(len(p[0]))[p.argmax(axis=0)!=0]\n",
    "sy = []\n",
    "\n",
    "for i in p.T:\n",
    "    j = np.where(i!=0)[0]\n",
    "    if j.tolist():\n",
    "        sy.append(j.mean())"
   ]
  },
  {
   "cell_type": "code",
   "execution_count": 38,
   "metadata": {},
   "outputs": [
    {
     "data": {
      "application/vnd.jupyter.widget-view+json": {
       "model_id": "fc003d129c79436b92645a912ba93f09",
       "version_major": 2,
       "version_minor": 0
      },
      "text/plain": [
       "interactive(children=(IntSlider(value=627, description='sample', max=1250, min=5), IntSlider(value=11, descrip…"
      ]
     },
     "metadata": {},
     "output_type": "display_data"
    }
   ],
   "source": [
    "#サンプル数の選択, 移動平均（畳み込み）でノイズの除去\n",
    "@interact(sample=(5, 1250), conv_size=(1, 21, 2))\n",
    "def fit(sample, conv_size):\n",
    "    global x,y\n",
    "    x = np.linspace(sx.min(), sx.max(), sample)\n",
    "    y = np.convolve(np.pad(np.interp(x, sx, sy), (conv_size-1)//2, \"edge\"), np.ones(conv_size) / conv_size, \"valid\")\n",
    "    plt.plot(x, y)\n",
    "    plt.xlim(0,len(p[0]))\n",
    "    plt.ylim(0, len(p))"
   ]
  },
  {
   "cell_type": "code",
   "execution_count": 39,
   "metadata": {},
   "outputs": [],
   "source": [
    "#切り取ったしたグラフのx軸、y軸の範囲を計算\n",
    "xmin = 0\n",
    "xmax = 350*x_all/x_ref #x_refが対応する範囲を利用\n",
    "xl = [xmin, xmax]\n",
    "\n",
    "ymin = -1*y_neg/y_ref\n",
    "ymax = 1*(y_all-y_neg)/y_ref #y_refが対応する範囲を利用\n",
    "yl = [ymin, ymax]\n",
    "\n"
   ]
  },
  {
   "cell_type": "code",
   "execution_count": 40,
   "metadata": {},
   "outputs": [
    {
     "data": {
      "text/plain": [
       "[<matplotlib.lines.Line2D at 0x7ff46645fc90>]"
      ]
     },
     "execution_count": 40,
     "metadata": {},
     "output_type": "execute_result"
    },
    {
     "data": {
      "image/png": "[encoded data removed]",
      "text/plain": [
       "<Figure size 432x288 with 1 Axes>"
      ]
     },
     "metadata": {
      "needs_background": "light"
     },
     "output_type": "display_data"
    }
   ],
   "source": [
    "#1画素あたりの長さを計算\n",
    "\n",
    "x_out = x * (xl[1] - xl[0]) / p.shape[1] + xl[0]\n",
    "\n",
    "#最初numpy配列として読み込んだ画像について、行の向きと元の画像のy軸の向きを合わせるために上下反転しているので、y座標を反転して元に戻す\n",
    "y_out = (p.shape[0]- y) * (yl[1] - yl[0]) / p.shape[0] + yl[0]\n",
    "\n",
    "plt.plot(x_out, y_out)"
   ]
  },
  {
   "cell_type": "code",
   "execution_count": 14,
   "metadata": {},
   "outputs": [],
   "source": [
    "#tsr3.7\n",
    "x_out_tsr = {}\n",
    "y_out_tsr = {}  \n",
    "x_out_tsr[3.7]=x_out\n",
    "y_out_tsr[3.7]=y_out"
   ]
  },
  {
   "cell_type": "code",
   "execution_count": 19,
   "metadata": {},
   "outputs": [],
   "source": [
    "x_out_tsr[3.5]=x_out\n",
    "y_out_tsr[3.5]=y_out"
   ]
  },
  {
   "cell_type": "code",
   "execution_count": 31,
   "metadata": {},
   "outputs": [],
   "source": [
    "x_out_tsr[3.3]=x_out\n",
    "y_out_tsr[3.3]=y_out"
   ]
  },
  {
   "cell_type": "code",
   "execution_count": 36,
   "metadata": {},
   "outputs": [],
   "source": [
    "x_out_tsr[3.1]=x_out\n",
    "y_out_tsr[3.1]=y_out"
   ]
  },
  {
   "cell_type": "code",
   "execution_count": 41,
   "metadata": {},
   "outputs": [],
   "source": [
    "x_out_tsr[2.9]=x_out\n",
    "y_out_tsr[2.9]=y_out"
   ]
  },
  {
   "cell_type": "code",
   "execution_count": 135,
   "metadata": {},
   "outputs": [
    {
     "data": {
      "text/html": [
       "<div>\n",
       "<style scoped>\n",
       "    .dataframe tbody tr th:only-of-type {\n",
       "        vertical-align: middle;\n",
       "    }\n",
       "\n",
       "    .dataframe tbody tr th {\n",
       "        vertical-align: top;\n",
       "    }\n",
       "\n",
       "    .dataframe thead th {\n",
       "        text-align: right;\n",
       "    }\n",
       "</style>\n",
       "<table border=\"1\" class=\"dataframe\">\n",
       "  <thead>\n",
       "    <tr style=\"text-align: right;\">\n",
       "      <th></th>\n",
       "      <th>3.7_azm</th>\n",
       "      <th>3.5_azm</th>\n",
       "      <th>3.3_azm</th>\n",
       "      <th>3.1_azm</th>\n",
       "      <th>2.9_azm</th>\n",
       "      <th>3.7</th>\n",
       "      <th>3.5</th>\n",
       "      <th>3.3</th>\n",
       "      <th>3.1</th>\n",
       "      <th>2.9</th>\n",
       "    </tr>\n",
       "  </thead>\n",
       "  <tbody>\n",
       "    <tr>\n",
       "      <th>0</th>\n",
       "      <td>2.935804</td>\n",
       "      <td>3.262005</td>\n",
       "      <td>15.657624</td>\n",
       "      <td>2.935804</td>\n",
       "      <td>2.935804</td>\n",
       "      <td>-0.034472</td>\n",
       "      <td>0.000254</td>\n",
       "      <td>0.077150</td>\n",
       "      <td>-0.089715</td>\n",
       "      <td>0.144426</td>\n",
       "    </tr>\n",
       "    <tr>\n",
       "      <th>1</th>\n",
       "      <td>3.500663</td>\n",
       "      <td>3.825300</td>\n",
       "      <td>16.201639</td>\n",
       "      <td>3.500663</td>\n",
       "      <td>3.500142</td>\n",
       "      <td>-0.033861</td>\n",
       "      <td>0.002503</td>\n",
       "      <td>0.078985</td>\n",
       "      <td>-0.089104</td>\n",
       "      <td>0.147102</td>\n",
       "    </tr>\n",
       "    <tr>\n",
       "      <th>2</th>\n",
       "      <td>4.065521</td>\n",
       "      <td>4.388595</td>\n",
       "      <td>16.745654</td>\n",
       "      <td>4.065521</td>\n",
       "      <td>4.064479</td>\n",
       "      <td>-0.032639</td>\n",
       "      <td>0.005279</td>\n",
       "      <td>0.081123</td>\n",
       "      <td>-0.088493</td>\n",
       "      <td>0.150768</td>\n",
       "    </tr>\n",
       "    <tr>\n",
       "      <th>3</th>\n",
       "      <td>4.630380</td>\n",
       "      <td>4.951890</td>\n",
       "      <td>17.289668</td>\n",
       "      <td>4.630380</td>\n",
       "      <td>4.628816</td>\n",
       "      <td>-0.031417</td>\n",
       "      <td>0.008582</td>\n",
       "      <td>0.083872</td>\n",
       "      <td>-0.087882</td>\n",
       "      <td>0.154947</td>\n",
       "    </tr>\n",
       "    <tr>\n",
       "      <th>4</th>\n",
       "      <td>5.195238</td>\n",
       "      <td>5.515185</td>\n",
       "      <td>17.833683</td>\n",
       "      <td>5.195238</td>\n",
       "      <td>5.193154</td>\n",
       "      <td>-0.029890</td>\n",
       "      <td>0.012248</td>\n",
       "      <td>0.087238</td>\n",
       "      <td>-0.086906</td>\n",
       "      <td>0.159703</td>\n",
       "    </tr>\n",
       "    <tr>\n",
       "      <th>...</th>\n",
       "      <td>...</td>\n",
       "      <td>...</td>\n",
       "      <td>...</td>\n",
       "      <td>...</td>\n",
       "      <td>...</td>\n",
       "      <td>...</td>\n",
       "      <td>...</td>\n",
       "      <td>...</td>\n",
       "      <td>...</td>\n",
       "      <td>...</td>\n",
       "    </tr>\n",
       "    <tr>\n",
       "      <th>622</th>\n",
       "      <td>354.277708</td>\n",
       "      <td>353.631560</td>\n",
       "      <td>354.034881</td>\n",
       "      <td>354.277708</td>\n",
       "      <td>353.953592</td>\n",
       "      <td>0.013916</td>\n",
       "      <td>-0.017358</td>\n",
       "      <td>0.034006</td>\n",
       "      <td>-0.060673</td>\n",
       "      <td>0.046504</td>\n",
       "    </tr>\n",
       "    <tr>\n",
       "      <th>623</th>\n",
       "      <td>354.842566</td>\n",
       "      <td>354.194855</td>\n",
       "      <td>354.578896</td>\n",
       "      <td>354.842566</td>\n",
       "      <td>354.517929</td>\n",
       "      <td>0.008239</td>\n",
       "      <td>-0.021825</td>\n",
       "      <td>0.032249</td>\n",
       "      <td>-0.062938</td>\n",
       "      <td>0.051685</td>\n",
       "    </tr>\n",
       "    <tr>\n",
       "      <th>624</th>\n",
       "      <td>355.407425</td>\n",
       "      <td>354.758150</td>\n",
       "      <td>355.122911</td>\n",
       "      <td>355.407425</td>\n",
       "      <td>355.082266</td>\n",
       "      <td>0.003091</td>\n",
       "      <td>-0.025491</td>\n",
       "      <td>0.030535</td>\n",
       "      <td>-0.065076</td>\n",
       "      <td>0.056145</td>\n",
       "    </tr>\n",
       "    <tr>\n",
       "      <th>625</th>\n",
       "      <td>355.972283</td>\n",
       "      <td>355.321445</td>\n",
       "      <td>355.666926</td>\n",
       "      <td>355.972283</td>\n",
       "      <td>355.646604</td>\n",
       "      <td>-0.000991</td>\n",
       "      <td>-0.028878</td>\n",
       "      <td>0.028863</td>\n",
       "      <td>-0.067035</td>\n",
       "      <td>0.059884</td>\n",
       "    </tr>\n",
       "    <tr>\n",
       "      <th>626</th>\n",
       "      <td>356.537141</td>\n",
       "      <td>355.884741</td>\n",
       "      <td>356.210941</td>\n",
       "      <td>356.537141</td>\n",
       "      <td>356.210941</td>\n",
       "      <td>-0.004030</td>\n",
       "      <td>-0.031542</td>\n",
       "      <td>0.027234</td>\n",
       "      <td>-0.068449</td>\n",
       "      <td>0.062902</td>\n",
       "    </tr>\n",
       "  </tbody>\n",
       "</table>\n",
       "<p>627 rows × 10 columns</p>\n",
       "</div>"
      ],
      "text/plain": [
       "        3.7_azm     3.5_azm     3.3_azm     3.1_azm     2.9_azm       3.7  \\\n",
       "0      2.935804    3.262005   15.657624    2.935804    2.935804 -0.034472   \n",
       "1      3.500663    3.825300   16.201639    3.500663    3.500142 -0.033861   \n",
       "2      4.065521    4.388595   16.745654    4.065521    4.064479 -0.032639   \n",
       "3      4.630380    4.951890   17.289668    4.630380    4.628816 -0.031417   \n",
       "4      5.195238    5.515185   17.833683    5.195238    5.193154 -0.029890   \n",
       "..          ...         ...         ...         ...         ...       ...   \n",
       "622  354.277708  353.631560  354.034881  354.277708  353.953592  0.013916   \n",
       "623  354.842566  354.194855  354.578896  354.842566  354.517929  0.008239   \n",
       "624  355.407425  354.758150  355.122911  355.407425  355.082266  0.003091   \n",
       "625  355.972283  355.321445  355.666926  355.972283  355.646604 -0.000991   \n",
       "626  356.537141  355.884741  356.210941  356.537141  356.210941 -0.004030   \n",
       "\n",
       "          3.5       3.3       3.1       2.9  \n",
       "0    0.000254  0.077150 -0.089715  0.144426  \n",
       "1    0.002503  0.078985 -0.089104  0.147102  \n",
       "2    0.005279  0.081123 -0.088493  0.150768  \n",
       "3    0.008582  0.083872 -0.087882  0.154947  \n",
       "4    0.012248  0.087238 -0.086906  0.159703  \n",
       "..        ...       ...       ...       ...  \n",
       "622 -0.017358  0.034006 -0.060673  0.046504  \n",
       "623 -0.021825  0.032249 -0.062938  0.051685  \n",
       "624 -0.025491  0.030535 -0.065076  0.056145  \n",
       "625 -0.028878  0.028863 -0.067035  0.059884  \n",
       "626 -0.031542  0.027234 -0.068449  0.062902  \n",
       "\n",
       "[627 rows x 10 columns]"
      ]
     },
     "execution_count": 135,
     "metadata": {},
     "output_type": "execute_result"
    }
   ],
   "source": [
    "import pandas as pd\n",
    "Ctx_azm_azm = pd.DataFrame(dict([(f'{k}_azm', pd.Series(v)) for k, v in x_out_tsr.items()]))\n",
    "Ctx_azm_ctx = pd.DataFrame(dict([(f'{k}', pd.Series(v)) for k, v in y_out_tsr.items()]))\n",
    "Ctx_azm = pd.concat([Ctx_azm_azm, Ctx_azm_ctx], axis=1)\n",
    "Ctx_azm.to_csv('Ctx_azm.csv', index=False)\n",
    "Ctx_azm\n"
   ]
  },
  {
   "cell_type": "code",
   "execution_count": 43,
   "metadata": {},
   "outputs": [],
   "source": [
    "import pandas as pd\n",
    "Cty_azm_azm = pd.DataFrame(dict([(f'{k}_azm', pd.Series(v)) for k, v in x_out_tsr.items()]))\n",
    "Cty_azm_cty = pd.DataFrame(dict([(f'{k}', pd.Series(v)) for k, v in y_out_tsr.items()]))\n",
    "Cty_azm = pd.concat([Cty_azm_azm, Cty_azm_cty], axis=1)\n",
    "Cty_azm.to_csv('Cty_azm.csv', index=False)\n"
   ]
  },
  {
   "cell_type": "code",
   "execution_count": 136,
   "metadata": {},
   "outputs": [
    {
     "data": {
      "text/html": [
       "<div>\n",
       "<style scoped>\n",
       "    .dataframe tbody tr th:only-of-type {\n",
       "        vertical-align: middle;\n",
       "    }\n",
       "\n",
       "    .dataframe tbody tr th {\n",
       "        vertical-align: top;\n",
       "    }\n",
       "\n",
       "    .dataframe thead th {\n",
       "        text-align: right;\n",
       "    }\n",
       "</style>\n",
       "<table border=\"1\" class=\"dataframe\">\n",
       "  <thead>\n",
       "    <tr style=\"text-align: right;\">\n",
       "      <th></th>\n",
       "      <th>3.7_azm</th>\n",
       "      <th>3.5_azm</th>\n",
       "      <th>3.3_azm</th>\n",
       "      <th>3.1_azm</th>\n",
       "      <th>2.9_azm</th>\n",
       "      <th>3.7</th>\n",
       "      <th>3.5</th>\n",
       "      <th>3.3</th>\n",
       "      <th>3.1</th>\n",
       "      <th>2.9</th>\n",
       "    </tr>\n",
       "  </thead>\n",
       "  <tbody>\n",
       "    <tr>\n",
       "      <th>0</th>\n",
       "      <td>3.262010</td>\n",
       "      <td>3.262010</td>\n",
       "      <td>2.935809</td>\n",
       "      <td>2.935809</td>\n",
       "      <td>2.935809</td>\n",
       "      <td>-0.016580</td>\n",
       "      <td>0.023622</td>\n",
       "      <td>0.031070</td>\n",
       "      <td>-0.071019</td>\n",
       "      <td>0.166168</td>\n",
       "    </tr>\n",
       "    <tr>\n",
       "      <th>1</th>\n",
       "      <td>3.826349</td>\n",
       "      <td>3.825828</td>\n",
       "      <td>3.500669</td>\n",
       "      <td>3.500669</td>\n",
       "      <td>3.278796</td>\n",
       "      <td>-0.015205</td>\n",
       "      <td>0.025505</td>\n",
       "      <td>0.031157</td>\n",
       "      <td>-0.070391</td>\n",
       "      <td>0.167521</td>\n",
       "    </tr>\n",
       "    <tr>\n",
       "      <th>2</th>\n",
       "      <td>4.390687</td>\n",
       "      <td>4.389645</td>\n",
       "      <td>4.065528</td>\n",
       "      <td>4.065528</td>\n",
       "      <td>3.621782</td>\n",
       "      <td>-0.013322</td>\n",
       "      <td>0.028047</td>\n",
       "      <td>0.031203</td>\n",
       "      <td>-0.069763</td>\n",
       "      <td>0.169203</td>\n",
       "    </tr>\n",
       "    <tr>\n",
       "      <th>3</th>\n",
       "      <td>4.955025</td>\n",
       "      <td>4.953462</td>\n",
       "      <td>4.630387</td>\n",
       "      <td>4.630387</td>\n",
       "      <td>3.964768</td>\n",
       "      <td>-0.010911</td>\n",
       "      <td>0.031131</td>\n",
       "      <td>0.031206</td>\n",
       "      <td>-0.069136</td>\n",
       "      <td>0.171345</td>\n",
       "    </tr>\n",
       "    <tr>\n",
       "      <th>4</th>\n",
       "      <td>5.519363</td>\n",
       "      <td>5.517279</td>\n",
       "      <td>5.195247</td>\n",
       "      <td>5.195247</td>\n",
       "      <td>4.307754</td>\n",
       "      <td>-0.008400</td>\n",
       "      <td>0.034444</td>\n",
       "      <td>0.031390</td>\n",
       "      <td>-0.068263</td>\n",
       "      <td>0.174001</td>\n",
       "    </tr>\n",
       "    <tr>\n",
       "      <th>...</th>\n",
       "      <td>...</td>\n",
       "      <td>...</td>\n",
       "      <td>...</td>\n",
       "      <td>...</td>\n",
       "      <td>...</td>\n",
       "      <td>...</td>\n",
       "      <td>...</td>\n",
       "      <td>...</td>\n",
       "      <td>...</td>\n",
       "      <td>...</td>\n",
       "    </tr>\n",
       "    <tr>\n",
       "      <th>1026</th>\n",
       "      <td>NaN</td>\n",
       "      <td>NaN</td>\n",
       "      <td>NaN</td>\n",
       "      <td>NaN</td>\n",
       "      <td>354.839591</td>\n",
       "      <td>NaN</td>\n",
       "      <td>NaN</td>\n",
       "      <td>NaN</td>\n",
       "      <td>NaN</td>\n",
       "      <td>0.080669</td>\n",
       "    </tr>\n",
       "    <tr>\n",
       "      <th>1027</th>\n",
       "      <td>NaN</td>\n",
       "      <td>NaN</td>\n",
       "      <td>NaN</td>\n",
       "      <td>NaN</td>\n",
       "      <td>355.182577</td>\n",
       "      <td>NaN</td>\n",
       "      <td>NaN</td>\n",
       "      <td>NaN</td>\n",
       "      <td>NaN</td>\n",
       "      <td>0.083378</td>\n",
       "    </tr>\n",
       "    <tr>\n",
       "      <th>1028</th>\n",
       "      <td>NaN</td>\n",
       "      <td>NaN</td>\n",
       "      <td>NaN</td>\n",
       "      <td>NaN</td>\n",
       "      <td>355.525563</td>\n",
       "      <td>NaN</td>\n",
       "      <td>NaN</td>\n",
       "      <td>NaN</td>\n",
       "      <td>NaN</td>\n",
       "      <td>0.085827</td>\n",
       "    </tr>\n",
       "    <tr>\n",
       "      <th>1029</th>\n",
       "      <td>NaN</td>\n",
       "      <td>NaN</td>\n",
       "      <td>NaN</td>\n",
       "      <td>NaN</td>\n",
       "      <td>355.868550</td>\n",
       "      <td>NaN</td>\n",
       "      <td>NaN</td>\n",
       "      <td>NaN</td>\n",
       "      <td>NaN</td>\n",
       "      <td>0.087966</td>\n",
       "    </tr>\n",
       "    <tr>\n",
       "      <th>1030</th>\n",
       "      <td>NaN</td>\n",
       "      <td>NaN</td>\n",
       "      <td>NaN</td>\n",
       "      <td>NaN</td>\n",
       "      <td>356.211536</td>\n",
       "      <td>NaN</td>\n",
       "      <td>NaN</td>\n",
       "      <td>NaN</td>\n",
       "      <td>NaN</td>\n",
       "      <td>0.089230</td>\n",
       "    </tr>\n",
       "  </tbody>\n",
       "</table>\n",
       "<p>1031 rows × 10 columns</p>\n",
       "</div>"
      ],
      "text/plain": [
       "       3.7_azm   3.5_azm   3.3_azm   3.1_azm     2.9_azm       3.7       3.5  \\\n",
       "0     3.262010  3.262010  2.935809  2.935809    2.935809 -0.016580  0.023622   \n",
       "1     3.826349  3.825828  3.500669  3.500669    3.278796 -0.015205  0.025505   \n",
       "2     4.390687  4.389645  4.065528  4.065528    3.621782 -0.013322  0.028047   \n",
       "3     4.955025  4.953462  4.630387  4.630387    3.964768 -0.010911  0.031131   \n",
       "4     5.519363  5.517279  5.195247  5.195247    4.307754 -0.008400  0.034444   \n",
       "...        ...       ...       ...       ...         ...       ...       ...   \n",
       "1026       NaN       NaN       NaN       NaN  354.839591       NaN       NaN   \n",
       "1027       NaN       NaN       NaN       NaN  355.182577       NaN       NaN   \n",
       "1028       NaN       NaN       NaN       NaN  355.525563       NaN       NaN   \n",
       "1029       NaN       NaN       NaN       NaN  355.868550       NaN       NaN   \n",
       "1030       NaN       NaN       NaN       NaN  356.211536       NaN       NaN   \n",
       "\n",
       "           3.3       3.1       2.9  \n",
       "0     0.031070 -0.071019  0.166168  \n",
       "1     0.031157 -0.070391  0.167521  \n",
       "2     0.031203 -0.069763  0.169203  \n",
       "3     0.031206 -0.069136  0.171345  \n",
       "4     0.031390 -0.068263  0.174001  \n",
       "...        ...       ...       ...  \n",
       "1026       NaN       NaN  0.080669  \n",
       "1027       NaN       NaN  0.083378  \n",
       "1028       NaN       NaN  0.085827  \n",
       "1029       NaN       NaN  0.087966  \n",
       "1030       NaN       NaN  0.089230  \n",
       "\n",
       "[1031 rows x 10 columns]"
      ]
     },
     "execution_count": 136,
     "metadata": {},
     "output_type": "execute_result"
    }
   ],
   "source": [
    "Cty_azm"
   ]
  }
 ],
 "metadata": {
  "kernelspec": {
   "display_name": "base",
   "language": "python",
   "name": "python3"
  },
  "language_info": {
   "codemirror_mode": {
    "name": "ipython",
    "version": 3
   },
   "file_extension": ".py",
   "mimetype": "text/x-python",
   "name": "python",
   "nbconvert_exporter": "python",
   "pygments_lexer": "ipython3",
   "version": "3.7.6"
  }
 },
 "nbformat": 4,
 "nbformat_minor": 2
}
